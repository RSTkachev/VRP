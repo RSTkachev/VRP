{
 "cells": [
  {
   "cell_type": "code",
   "execution_count": 59,
   "id": "9435aceb-3505-4513-aaba-bebc945751e3",
   "metadata": {},
   "outputs": [],
   "source": [
    "import numpy as np\n",
    "import vrplib\n",
    "import os\n",
    "from tqdm import tqdm\n",
    "import matplotlib.pyplot as plt\n",
    "from sklearn.metrics import mean_absolute_percentage_error as mape"
   ]
  },
  {
   "cell_type": "code",
   "execution_count": 141,
   "id": "f495b18e-1579-43a5-aff1-869d9e037148",
   "metadata": {},
   "outputs": [],
   "source": [
    "def calculate_probability(ratio_distance, distance, ratio_pheromone, pheromone):\n",
    "    individual_results = np.power(1 / (distance + 1e-6), ratio_distance) * np.power(pheromone, ratio_pheromone)\n",
    "    return np.cumsum(individual_results / individual_results.sum())"
   ]
  },
  {
   "cell_type": "code",
   "execution_count": 154,
   "id": "46ba475d-d8ea-4a04-809d-4b19d40988c1",
   "metadata": {},
   "outputs": [],
   "source": [
    "def aco(\n",
    "    n_ants: int,\n",
    "    n_elite_ants: int,\n",
    "    n_iterations: int,\n",
    "    ratio_distance: float,\n",
    "    ratio_pheromone: float,\n",
    "    ratio_remainder: float,\n",
    "    filenames_tests: list\n",
    ") -> (list, list):\n",
    "    \n",
    "    result_distance = []\n",
    "    result_route = []\n",
    "\n",
    "    for filename_test in tqdm(filenames_tests):\n",
    "        rng = np.random.default_rng(42)\n",
    "\n",
    "        data = vrplib.read_instance(filename_test)\n",
    "        \n",
    "        pheromone = np.mean(data['edge_weight']) / (data['edge_weight'] + 1e-6)\n",
    "        \n",
    "        best_distance = np.inf\n",
    "        best_route = None\n",
    "\n",
    "        elite_route = [None] * n_elite_ants\n",
    "        elite_distance = [None] * n_elite_ants\n",
    "        max_elite_distance = np.inf\n",
    "        \n",
    "        for iteration in range(1, n_iterations + 1):\n",
    "            all_routes = []\n",
    "            all_distances = []\n",
    "        \n",
    "            for _ in range(n_ants):\n",
    "                visited = set()\n",
    "                remain_capacity = data['capacity']\n",
    "                current_vertex = data['depot'][0]\n",
    "                current_route = []\n",
    "                current_distance = 0\n",
    "        \n",
    "                while len(visited) < data['dimension']:\n",
    "                    visited.add(current_vertex)\n",
    "                    able_visit = [data['depot'][0]] if current_vertex != data['depot'][0] else []\n",
    "        \n",
    "                    if current_vertex == data['depot'][0]:\n",
    "                        remain_capacity = data['capacity']\n",
    "        \n",
    "                    able_visit.extend(\n",
    "                        number for number, demand in enumerate(data['demand'])\n",
    "                        if remain_capacity >= demand and number not in visited\n",
    "                    )\n",
    "                    \n",
    "                    probabilities = calculate_probability(\n",
    "                        ratio_distance,\n",
    "                        data['edge_weight'][current_vertex, able_visit],\n",
    "                        ratio_pheromone,\n",
    "                        pheromone[current_vertex, able_visit]\n",
    "                    )\n",
    "        \n",
    "                    next_vertex = able_visit[np.searchsorted(probabilities, rng.random())]\n",
    "        \n",
    "                    current_route.append((current_vertex, next_vertex))\n",
    "                    current_distance += data['edge_weight'][current_vertex, next_vertex]\n",
    "                    remain_capacity -= data['demand'][next_vertex]\n",
    "                    current_vertex = next_vertex\n",
    "        \n",
    "                all_routes.append(current_route)\n",
    "                all_distances.append(current_distance)\n",
    "        \n",
    "            pheromone *= ratio_remainder\n",
    "\n",
    "            sorted_indices = sorted(range(len(all_distances)), key=lambda i: all_distances[i])\n",
    "\n",
    "            sorted_distance = [all_distances[i] for i in sorted_indices]\n",
    "            sorted_routes = [all_routes[i] for i in sorted_indices]\n",
    "\n",
    "            for route, distance in zip(elite_route, elite_distance):\n",
    "                if route and distance:\n",
    "                    for start_vertex, end_vertex in route:\n",
    "                        pheromone[start_vertex, end_vertex] += sorted_distance[0] / pow(distance + 1e-6, 2)\n",
    "                        pheromone[end_vertex, start_vertex] = pheromone[start_vertex, end_vertex]\n",
    "\n",
    "            if sorted_routes[0] not in elite_route:\n",
    "                elite_route[iteration % n_elite_ants] = sorted_routes[0]\n",
    "                elite_distance[iteration % n_elite_ants] = sorted_distance[0]\n",
    "            \n",
    "            for route, distance in zip(sorted_routes[:int(len(sorted_routes) / 2)], sorted_distance[:int(len(sorted_distance) / 2)]):\n",
    "                for start_vertex, end_vertex in route:\n",
    "                    pheromone[start_vertex, end_vertex] += sorted_distance[-1] / pow(distance + 1e-6, 2)\n",
    "                    pheromone[end_vertex, start_vertex] = pheromone[start_vertex, end_vertex]\n",
    "        \n",
    "            if sorted_distance[0] < best_distance:\n",
    "                best_distance = sorted_distance[0]\n",
    "                best_route = sorted_routes[0]\n",
    "        \n",
    "        result_distance.append(best_distance)\n",
    "        result_route.append(best_route)\n",
    "    return result_distance, result_route"
   ]
  },
  {
   "cell_type": "code",
   "execution_count": 135,
   "id": "7d433503-f7f8-4049-a2b1-e7eca94f1088",
   "metadata": {},
   "outputs": [],
   "source": [
    "def write_solution(\n",
    "    path: str,\n",
    "    filenames: list,\n",
    "    distance: list,\n",
    "    route: list\n",
    ") -> None:\n",
    "\n",
    "    for filename, distance, route in zip(filenames, aco_distance, aco_route):\n",
    "        result_filename = filename.split('/')[-1]\n",
    "        if not os.path.exists(path):\n",
    "            os.mkdir(path)\n",
    "    \n",
    "        result_route = []\n",
    "        transport = []\n",
    "        for pair in route:\n",
    "            if pair[1] != 0:\n",
    "                transport.append(pair[1])\n",
    "            else:\n",
    "                result_route.append(transport.copy())\n",
    "                transport.clear()\n",
    "    \n",
    "        vrplib.write_solution(path=f'{path}{result_filename}', routes=result_route, data={'cost': distance})"
   ]
  },
  {
   "cell_type": "code",
   "execution_count": 342,
   "id": "52632158-59bb-4b12-9881-2d522c207fa7",
   "metadata": {},
   "outputs": [],
   "source": [
    "def visualize_data(path_raw: str, path_route: str) -> None:\n",
    "    raw_filenames = sorted([filename for filename in os.listdir(path_raw) if filename.endswith('.vrp')])\n",
    "    optimal_filenames = sorted([filename for filename in os.listdir(path_raw) if filename.endswith('.sol')])\n",
    "    route_filenames = sorted([filename for filename in os.listdir(path_route) if filename.endswith('.sol')])\n",
    "    \n",
    "    for raw_filename, route_filename, optimal_filename in zip(raw_filenames, route_filenames, optimal_filenames):\n",
    "        raw = vrplib.read_instance(f'{path_raw}{raw_filename}')\n",
    "        optimal = vrplib.read_solution(f'{path_raw}{optimal_filename}')\n",
    "        routes = vrplib.read_solution(f'{path_route}{route_filename}')\n",
    "        \n",
    "        score = abs(optimal['cost'] - routes['cost']) / optimal['cost']\n",
    "        \n",
    "        routes = routes['routes']\n",
    "        \n",
    "        plt.scatter(raw['node_coord'][:, 0], raw['node_coord'][:, 1], c='r')\n",
    "        plt.scatter(raw['node_coord'][0, 0], raw['node_coord'][0, 1], c='g')\n",
    "\n",
    "        plt.title(f'{raw_filename.split('.')[-2]}: {round(score, 3)}')\n",
    "\n",
    "        for route in routes:\n",
    "            route.insert(0, 0)\n",
    "            route.append(0)\n",
    "\n",
    "            for index in range(len(route) - 1):\n",
    "                start_point = raw['node_coord'][route[index]]\n",
    "                end_point = raw['node_coord'][route[index + 1]]\n",
    "                plt.plot([start_point[0], end_point[0]], [start_point[1], end_point[1]], c='b')\n",
    "\n",
    "        plt.savefig(f'{path_route}{route_filename.split('.')[-2]}.jpg')\n",
    "        plt.close()"
   ]
  },
  {
   "cell_type": "code",
   "execution_count": 177,
   "id": "4b2a7fe8-d66f-4274-860b-82532d89d76c",
   "metadata": {},
   "outputs": [],
   "source": [
    "tests = []\n",
    "solutions = []\n",
    "for dirname, _, filenames in os.walk('./set_m/'):\n",
    "    for filename in filenames:\n",
    "        if filename.endswith('.vrp'):\n",
    "            tests.append(f'{dirname}{filename}')\n",
    "        if filename.endswith('.sol'):\n",
    "            solutions.append(f'{dirname}{filename}')\n",
    "tests.sort()\n",
    "solutions.sort()"
   ]
  },
  {
   "cell_type": "code",
   "execution_count": 179,
   "id": "362e3b4d-f581-4555-8c42-a2271c2fd416",
   "metadata": {},
   "outputs": [],
   "source": [
    "optimal_distance = []\n",
    "for filename in solutions:\n",
    "    solution = vrplib.read_solution(filename)\n",
    "    optimal_distance.append(solution['cost'])"
   ]
  },
  {
   "cell_type": "code",
   "execution_count": 181,
   "id": "94cdedcb-63a2-4943-9c93-04df7c2d4bca",
   "metadata": {
    "scrolled": true
   },
   "outputs": [
    {
     "name": "stderr",
     "output_type": "stream",
     "text": [
      "100%|████████████████████████████████████████████| 5/5 [43:19<00:00, 519.84s/it]"
     ]
    },
    {
     "name": "stdout",
     "output_type": "stream",
     "text": [
      "0.1494241276636954\n",
      "CPU times: user 42min 58s, sys: 16.4 s, total: 43min 14s\n",
      "Wall time: 43min 19s\n"
     ]
    },
    {
     "name": "stderr",
     "output_type": "stream",
     "text": [
      "\n"
     ]
    }
   ],
   "source": [
    "%%time\n",
    "\n",
    "aco_distance, aco_route = aco(80, 20, 1000, 1, 13, 0.97, tests)\n",
    "write_solution('./results_m/', solutions, aco_distance, aco_route)\n",
    "visualize_data('./set_m/', './results_m/')\n",
    "\n",
    "print(mape(y_pred=aco_distance, y_true=optimal_distance))"
   ]
  }
 ],
 "metadata": {
  "kernelspec": {
   "display_name": "Python [conda env:base] *",
   "language": "python",
   "name": "conda-base-py"
  },
  "language_info": {
   "codemirror_mode": {
    "name": "ipython",
    "version": 3
   },
   "file_extension": ".py",
   "mimetype": "text/x-python",
   "name": "python",
   "nbconvert_exporter": "python",
   "pygments_lexer": "ipython3",
   "version": "3.12.2"
  }
 },
 "nbformat": 4,
 "nbformat_minor": 5
}
